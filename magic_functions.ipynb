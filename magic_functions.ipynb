{
 "cells": [
  {
   "cell_type": "code",
   "execution_count": null,
   "metadata": {},
   "outputs": [],
   "source": [
    "# magic commands\n",
    "\n",
    "%команда - применяемые к текущей строке\n",
    "%%команда - применяемые ко всей ячейке \n",
    "\n",
    "# Пример: вывод краткой справки по работе с блокнотом - %quickref"
   ]
  },
  {
   "cell_type": "code",
   "execution_count": null,
   "metadata": {},
   "outputs": [],
   "source": [
    "# Список всех доступных волшебных команд - %lsmagic\n",
    "# Узнать, что делает команда - %команда?"
   ]
  },
  {
   "cell_type": "code",
   "execution_count": null,
   "metadata": {},
   "outputs": [],
   "source": [
    "# some commands\n",
    "%who - Список переменных в памяти\n",
    "%whos - Подробная информация о переменных в памяти\n",
    "%xdel - Удалить объект\n",
    "%reset - Удалить из памяти все объекты\n",
    "%clear - Очистить вывод\n",
    "%timeit - Протестировать скорость выполнения кода в текущей строке\n",
    "%%timeit - Протестировать скорость выполнения кода в текущей ячейке\n",
    "%matplotlib - Включить режим для работы с графиками matplotlib"
   ]
  },
  {
   "cell_type": "code",
   "execution_count": null,
   "metadata": {},
   "outputs": [],
   "source": [
    "# comands for work with files\n",
    "%pwd - Вывести текущий каталог\n",
    "%cd каталог - Перейти в другой каталог\n",
    "%ls - Вывести список файлов в текущем каталоге\n",
    "%less файл - Вывести на экран содержимое файла\n",
    "%load файл - Загрузить содержимое файла в следующую ячейку (также работает с URL) - удобно для загрузки примеров\n",
    "\n",
    "#  при работе с файлами удобно использовать автодополнение по клавише Tab"
   ]
  },
  {
   "cell_type": "code",
   "execution_count": null,
   "metadata": {},
   "outputs": [],
   "source": [
    "# Также возможно выполнение любой системной команды вашей ОС. \n",
    "# Достаточно перед командой добавить !, например: !hostname"
   ]
  },
  {
   "cell_type": "code",
   "execution_count": null,
   "metadata": {},
   "outputs": [],
   "source": [
    "#  Hе стоит не глядя выполнять команду Run All для чужих блокнотов !!!"
   ]
  }
 ],
 "metadata": {
  "kernelspec": {
   "display_name": "Python 3",
   "language": "python",
   "name": "python3"
  },
  "language_info": {
   "codemirror_mode": {
    "name": "ipython",
    "version": 3
   },
   "file_extension": ".py",
   "mimetype": "text/x-python",
   "name": "python",
   "nbconvert_exporter": "python",
   "pygments_lexer": "ipython3",
   "version": "3.6.2"
  }
 },
 "nbformat": 4,
 "nbformat_minor": 2
}
